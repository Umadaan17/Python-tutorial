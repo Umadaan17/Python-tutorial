{
 "cells": [
  {
   "cell_type": "code",
   "execution_count": 1,
   "metadata": {},
   "outputs": [],
   "source": [
    "class pwskills:\n",
    "\n",
    "    def student_details(self,name,mobile_number):\n",
    "        print(name,mobile_number)"
   ]
  },
  {
   "cell_type": "code",
   "execution_count": 3,
   "metadata": {},
   "outputs": [],
   "source": [
    "get=pwskills()"
   ]
  },
  {
   "cell_type": "code",
   "execution_count": 4,
   "metadata": {},
   "outputs": [
    {
     "name": "stdout",
     "output_type": "stream",
     "text": [
      "utk 9085565\n"
     ]
    }
   ],
   "source": [
    "get.student_details(\"utk\",\"9085565\")"
   ]
  },
  {
   "cell_type": "code",
   "execution_count": 5,
   "metadata": {},
   "outputs": [],
   "source": [
    "class pwskills:\n",
    "\n",
    "    def student_details(self,name,mobile_number):\n",
    "        print(name,mobile_number)\n",
    "\n",
    "    @staticmethod\n",
    "    def mentor(list_mentor):\n",
    "        print(list_mentor)"
   ]
  },
  {
   "cell_type": "code",
   "execution_count": 6,
   "metadata": {},
   "outputs": [
    {
     "name": "stdout",
     "output_type": "stream",
     "text": [
      "['utk', 'madaan']\n"
     ]
    }
   ],
   "source": [
    "pwskills.mentor([\"utk\",\"madaan\"])"
   ]
  },
  {
   "cell_type": "code",
   "execution_count": 21,
   "metadata": {},
   "outputs": [],
   "source": [
    "class pwskills2:\n",
    "\n",
    "    def student_details(self,name,mobile_number):\n",
    "        print(name,mobile_number)\n",
    "\n",
    "    @staticmethod\n",
    "    def mentor_emal_id(list_mentor_email):\n",
    "        print(list_mentor_email)\n",
    "\n",
    "    @staticmethod\n",
    "    def mentor(list_mentor):\n",
    "        pwskills2.mentor_emal_id([\"urk@gmail.com\",\"abc@gmail.com\"])\n",
    "        print(list_mentor)\n",
    "\n",
    "    @classmethod\n",
    "    def class_name(cls):\n",
    "        cls.mentor([\"krish\",\"sudh\"])\n",
    "\n",
    "    def mentor_name(self,mentor_list):\n",
    "        print(mentor_list)\n",
    "        self.mentor([\"krish\",\"sudh\"])"
   ]
  },
  {
   "cell_type": "code",
   "execution_count": 22,
   "metadata": {},
   "outputs": [
    {
     "name": "stdout",
     "output_type": "stream",
     "text": [
      "['urk@gmail.com', 'abc@gmail.com']\n",
      "['utk', 'gaurab']\n"
     ]
    }
   ],
   "source": [
    "pwskills2.mentor([\"utk\",\"gaurab\"])"
   ]
  },
  {
   "cell_type": "code",
   "execution_count": 18,
   "metadata": {},
   "outputs": [],
   "source": [
    "ment=pwskills2()"
   ]
  },
  {
   "cell_type": "code",
   "execution_count": 20,
   "metadata": {},
   "outputs": [
    {
     "name": "stdout",
     "output_type": "stream",
     "text": [
      "['hhh', 'hb']\n",
      "['urk@gmail.com', 'abc@gmail.com']\n",
      "['krish', 'sudh']\n"
     ]
    }
   ],
   "source": [
    "ment.mentor_name([\"hhh\",\"hb\"])"
   ]
  },
  {
   "cell_type": "code",
   "execution_count": null,
   "metadata": {},
   "outputs": [],
   "source": []
  }
 ],
 "metadata": {
  "kernelspec": {
   "display_name": "Python 3",
   "language": "python",
   "name": "python3"
  },
  "language_info": {
   "codemirror_mode": {
    "name": "ipython",
    "version": 3
   },
   "file_extension": ".py",
   "mimetype": "text/x-python",
   "name": "python",
   "nbconvert_exporter": "python",
   "pygments_lexer": "ipython3",
   "version": "3.12.2"
  }
 },
 "nbformat": 4,
 "nbformat_minor": 2
}
